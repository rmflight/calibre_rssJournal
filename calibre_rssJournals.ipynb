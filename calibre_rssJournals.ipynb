{
 "metadata": {
  "name": "calibre_rssJournals"
 },
 "nbformat": 3,
 "nbformat_minor": 0,
 "worksheets": [
  {
   "cells": [
    {
     "cell_type": "markdown",
     "metadata": {},
     "source": [
      "This is just a simple setup to make sure that we can import the Calibre modules so that we can actually use them for the processing we want to be able to do."
     ]
    },
    {
     "cell_type": "code",
     "collapsed": true,
     "input": [
      "import init_calibre\n",
      "import calibre\n",
      "\n",
      "print calibre.__version__"
     ],
     "language": "python",
     "metadata": {},
     "outputs": [
      {
       "output_type": "stream",
       "stream": "stdout",
       "text": [
        "0.9.6\n"
       ]
      }
     ],
     "prompt_number": 1
    },
    {
     "cell_type": "code",
     "collapsed": false,
     "input": [
      "import re\n",
      "from calibre.web.feeds.recipes import BasicNewsRecipe\n",
      "\n"
     ],
     "language": "python",
     "metadata": {},
     "outputs": [
      {
       "output_type": "stream",
       "stream": "stdout",
       "text": [
        "<class 'calibre.web.feeds.news.BasicNewsRecipe'>\n"
       ]
      }
     ],
     "prompt_number": 4
    },
    {
     "cell_type": "code",
     "collapsed": false,
     "input": [
      "feeds = [(\"testBioinformatics\", \"file:///home/robert/Documents/calibre_rssJournal/bioinformatics_recent_test\")]\n",
      "print feeds"
     ],
     "language": "python",
     "metadata": {},
     "outputs": [
      {
       "output_type": "stream",
       "stream": "stdout",
       "text": [
        "[('testBioinformatics', 'file:///home/robert/Documents/calibre_rssJournal/bioinformatics_recent_test')]\n"
       ]
      }
     ],
     "prompt_number": 5
    }
   ],
   "metadata": {}
  }
 ]
}