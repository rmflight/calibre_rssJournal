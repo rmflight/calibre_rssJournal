{
 "metadata": {
  "name": "calibre_rssJournals"
 }, 
 "name": "calibre_rssJournals", 
 "nbformat": 2, 
 "worksheets": [
  {
   "cells": [
    {
     "cell_type": "code", 
     "collapsed": true, 
     "input": "", 
     "language": "python", 
     "outputs": []
    }
   ]
  }
 ]
}