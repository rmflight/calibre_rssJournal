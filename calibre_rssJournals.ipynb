{
 "metadata": {
  "name": "calibre_rssJournals"
 },
 "nbformat": 3,
 "nbformat_minor": 0,
 "worksheets": [
  {
   "cells": [
    {
     "cell_type": "markdown",
     "metadata": {},
     "source": [
      "This is just a simple setup to make sure that we can import the Calibre modules so that we can actually use them for the processing we want to be able to do."
     ]
    },
    {
     "cell_type": "code",
     "collapsed": true,
     "input": [
      "import init_calibre\n",
      "import calibre\n",
      "\n",
      "print calibre.__version__"
     ],
     "language": "python",
     "metadata": {},
     "outputs": [
      {
       "output_type": "stream",
       "stream": "stdout",
       "text": [
        "0.9.6\n"
       ]
      }
     ],
     "prompt_number": 1
    }
   ],
   "metadata": {}
  }
 ]
}