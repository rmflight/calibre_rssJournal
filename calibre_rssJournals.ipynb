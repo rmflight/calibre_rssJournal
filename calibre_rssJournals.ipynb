{
 "metadata": {
  "name": "calibre_rssJournals"
 },
 "nbformat": 3,
 "nbformat_minor": 0,
 "worksheets": [
  {
   "cells": [
    {
     "cell_type": "markdown",
     "metadata": {},
     "source": [
      "This is just a simple setup to make sure that we can import the Calibre modules so that we can actually use them for the processing we want to be able to do."
     ]
    },
    {
     "cell_type": "code",
     "collapsed": true,
     "input": [
      "import init_calibre\n",
      "import calibre\n",
      "\n",
      "print calibre.__version__"
     ],
     "language": "python",
     "metadata": {},
     "outputs": [
      {
       "output_type": "stream",
       "stream": "stdout",
       "text": [
        "0.9.6\n"
       ]
      }
     ],
     "prompt_number": 1
    },
    {
     "cell_type": "code",
     "collapsed": false,
     "input": [
      "import re\n",
      "import BeautifulSoup\n",
      "from calibre.web.feeds.recipes import BasicNewsRecipe\n",
      "from calibre.ebooks.BeautifulSoup import BeautifulSoup\n"
     ],
     "language": "python",
     "metadata": {},
     "outputs": [],
     "prompt_number": 30
    },
    {
     "cell_type": "markdown",
     "metadata": {},
     "source": [
      "Now that we have the actual recipe imported, lets start making our specific modifications"
     ]
    },
    {
     "cell_type": "code",
     "collapsed": false,
     "input": [
      "class Bioinformatics(BasicNewsRecipe):\n",
      "    feeds = [(\"testBioinformatics\", \"file:///home/robert/Documents/calibre_rssJournal/bioinformatics_recent_test\")]\n",
      "\n",
      "    title = 'Bioinformatics Journal'\n",
      "    description = u'Bioinformatics Journal Feed'\n",
      "    max_articles_per_feed = 100\n",
      "    oldest_article = 100\n",
      "    \n",
      "    \n",
      "testRecipe = BasicNewsRecipe()"
     ],
     "language": "python",
     "metadata": {},
     "outputs": [
      {
       "ename": "TypeError",
       "evalue": "__init__() takes exactly 4 arguments (1 given)",
       "output_type": "pyerr",
       "traceback": [
        "\u001b[1;31m---------------------------------------------------------------------------\u001b[0m\n\u001b[1;31mTypeError\u001b[0m                                 Traceback (most recent call last)",
        "\u001b[1;32m<ipython-input-34-e39735fb715e>\u001b[0m in \u001b[0;36m<module>\u001b[1;34m()\u001b[0m\n\u001b[0;32m      7\u001b[0m     \u001b[0moldest_article\u001b[0m \u001b[1;33m=\u001b[0m \u001b[1;36m100\u001b[0m\u001b[1;33m\u001b[0m\u001b[0m\n\u001b[0;32m      8\u001b[0m \u001b[1;33m\u001b[0m\u001b[0m\n\u001b[1;32m----> 9\u001b[1;33m \u001b[0mtestRecipe\u001b[0m \u001b[1;33m=\u001b[0m \u001b[0mBasicNewsRecipe\u001b[0m\u001b[1;33m(\u001b[0m\u001b[1;33m)\u001b[0m\u001b[1;33m\u001b[0m\u001b[0m\n\u001b[0m",
        "\u001b[1;31mTypeError\u001b[0m: __init__() takes exactly 4 arguments (1 given)"
       ]
      }
     ],
     "prompt_number": 34
    },
    {
     "cell_type": "code",
     "collapsed": false,
     "input": [
      "def print_version(self, url):\n",
      "    return url.replace(\"short\", \"long\")\n"
     ],
     "language": "python",
     "metadata": {},
     "outputs": [],
     "prompt_number": 8
    },
    {
     "cell_type": "code",
     "collapsed": false,
     "input": [
      "url = \"http://bioinformatics.oxfordjournals.org/cgi/content/short/28/22/2898?rss=1\"\n",
      "print url\n",
      "\n",
      "url_replaced = url.replace(\"short\", \"long\")\n",
      "print url_replaced\n"
     ],
     "language": "python",
     "metadata": {},
     "outputs": [
      {
       "output_type": "stream",
       "stream": "stdout",
       "text": [
        "http://bioinformatics.oxfordjournals.org/cgi/content/short/28/22/2898?rss=1\n",
        "http://bioinformatics.oxfordjournals.org/cgi/content/long/28/22/2898?rss=1\n"
       ]
      }
     ],
     "prompt_number": 16
    },
    {
     "cell_type": "code",
     "collapsed": false,
     "input": [
      "BasicNewsRecipe.index_to_soup(Bioinformatics, \"http://bioinformatics.oxfordjournals.org/cgi/content/long/28/22/2898?rss=1\")"
     ],
     "language": "python",
     "metadata": {},
     "outputs": [
      {
       "ename": "TypeError",
       "evalue": "unbound method index_to_soup() must be called with BasicNewsRecipe instance as first argument (got type instance instead)",
       "output_type": "pyerr",
       "traceback": [
        "\u001b[1;31m---------------------------------------------------------------------------\u001b[0m\n\u001b[1;31mTypeError\u001b[0m                                 Traceback (most recent call last)",
        "\u001b[1;32m<ipython-input-33-d20aadf0928e>\u001b[0m in \u001b[0;36m<module>\u001b[1;34m()\u001b[0m\n\u001b[1;32m----> 1\u001b[1;33m \u001b[0mBasicNewsRecipe\u001b[0m\u001b[1;33m.\u001b[0m\u001b[0mindex_to_soup\u001b[0m\u001b[1;33m(\u001b[0m\u001b[0mBioinformatics\u001b[0m\u001b[1;33m,\u001b[0m \u001b[1;34m\"http://bioinformatics.oxfordjournals.org/cgi/content/long/28/22/2898?rss=1\"\u001b[0m\u001b[1;33m)\u001b[0m\u001b[1;33m\u001b[0m\u001b[0m\n\u001b[0m",
        "\u001b[1;31mTypeError\u001b[0m: unbound method index_to_soup() must be called with BasicNewsRecipe instance as first argument (got type instance instead)"
       ]
      }
     ],
     "prompt_number": 33
    }
   ],
   "metadata": {}
  }
 ]
}